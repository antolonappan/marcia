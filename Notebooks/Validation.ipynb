{
 "cells": [
  {
   "cell_type": "code",
   "execution_count": 1,
   "id": "f08d8311-90eb-4886-b7c8-1964e14f6d28",
   "metadata": {},
   "outputs": [],
   "source": [
    "import sys\n",
    "sys.path.append('../')"
   ]
  },
  {
   "cell_type": "code",
   "execution_count": 2,
   "id": "e75a5d21-676b-4c16-92a7-b1d9e8e3a3f0",
   "metadata": {},
   "outputs": [],
   "source": [
    "import numpy as np \n",
    "import matplotlib.pyplot as plt"
   ]
  },
  {
   "cell_type": "code",
   "execution_count": 3,
   "id": "a53c96d1-5fb0-42ed-b5f0-4f0e1d88f856",
   "metadata": {},
   "outputs": [],
   "source": [
    "%load_ext autoreload\n",
    "%autoreload 2\n",
    "from marcia import Cosmology\n",
    "from marcia import Data\n",
    "from marcia import Likelihood\n",
    "from marcia import Sampler\n",
    "from marcia import Kernels"
   ]
  },
  {
   "cell_type": "markdown",
   "id": "e156a78d-bbca-4321-a5fe-c82cb37e6063",
   "metadata": {},
   "source": [
    "# Validate Cosmology"
   ]
  },
  {
   "cell_type": "code",
   "execution_count": 4,
   "id": "b53aa1cb-b55c-4ef2-b814-ce68fd25098f",
   "metadata": {},
   "outputs": [],
   "source": [
    "cParIni = [70.0, 0.3] \n",
    "params = ['H0','Omega_m']\n",
    "\n",
    "theory = Cosmology('LCDM',params)\n",
    "\n",
    "z_min = 0.001\n",
    "z_max = 10.0"
   ]
  },
  {
   "cell_type": "code",
   "execution_count": 5,
   "id": "15f827ac-acc7-4fe6-a68f-99976dab0f17",
   "metadata": {},
   "outputs": [
    {
     "data": {
      "text/plain": [
       "<matplotlib.legend.Legend at 0x7f95a6c2a220>"
      ]
     },
     "execution_count": 5,
     "metadata": {},
     "output_type": "execute_result"
    },
    {
     "data": {
      "image/png": "[encoded data removed]",
      "text/plain": [
       "<Figure size 432x288 with 1 Axes>"
      ]
     },
     "metadata": {
      "needs_background": "light"
     },
     "output_type": "display_data"
    }
   ],
   "source": [
    "zlist = np.linspace(z_min, z_max, 10)\n",
    "\n",
    "plt.xlim(z_min,z_max)\n",
    "plt.yscale('log')\n",
    "plt.xscale('log')\n",
    "plt.xlabel(r'$z$')\n",
    "plt.ylabel(r'$\\xi(z)$')\n",
    "\n",
    "plt.plot(zlist, theory.hubble_rate(cParIni,zlist), label = r'$\\xi(x) = H(z) [\\rm{Km/s\\, Mpc^{-1}}]$')\n",
    "plt.plot(zlist, theory.hubble_rate(cParIni,zlist)/theory.param(cParIni).H0, label = r'$\\xi(x) = E(z)$')\n",
    "\n",
    "plt.gca().legend()"
   ]
  },
  {
   "cell_type": "code",
   "execution_count": 6,
   "id": "f30113c6-31b1-4af8-ab4d-d97b9a9d511b",
   "metadata": {},
   "outputs": [
    {
     "data": {
      "text/plain": [
       "<matplotlib.legend.Legend at 0x7f95a4a14a60>"
      ]
     },
     "execution_count": 6,
     "metadata": {},
     "output_type": "execute_result"
    },
    {
     "data": {
      "image/png": "[encoded data removed]",
      "text/plain": [
       "<Figure size 432x288 with 1 Axes>"
      ]
     },
     "metadata": {
      "needs_background": "light"
     },
     "output_type": "display_data"
    }
   ],
   "source": [
    "plt.xlim(z_min,z_max)\n",
    "plt.yscale('log')\n",
    "\n",
    "plt.xlabel(r'$z$')\n",
    "plt.ylabel(r'$\\xi(z)$')\n",
    "\n",
    "plt.plot(zlist, theory.transverse_distance(cParIni,zlist), label = r'$\\xi(x) = D_M(z)$')\n",
    "\n",
    "plt.gca().legend()"
   ]
  },
  {
   "cell_type": "code",
   "execution_count": 7,
   "id": "b6f1035b-e721-4843-8bd8-6d313bb71ec8",
   "metadata": {},
   "outputs": [
    {
     "name": "stdout",
     "output_type": "stream",
     "text": [
      "The sound horizon in MPc is : 146.61\n"
     ]
    }
   ],
   "source": [
    "# SOund horizon for the  current cosmology \n",
    "print('The sound horizon in MPc is : ' + str(round(theory.sound_horizon(cParIni), 2)))"
   ]
  },
  {
   "cell_type": "code",
   "execution_count": 9,
   "id": "c31c2e43",
   "metadata": {},
   "outputs": [
    {
     "ename": "AssertionError",
     "evalue": "wCDM: w0 is not defined in the parameters",
     "output_type": "error",
     "traceback": [
      "\u001b[0;31m---------------------------------------------------------------------------\u001b[0m",
      "\u001b[0;31mAssertionError\u001b[0m                            Traceback (most recent call last)",
      "\u001b[0;32m<ipython-input-9-b38ac4d1a48b>\u001b[0m in \u001b[0;36m<module>\u001b[0;34m\u001b[0m\n\u001b[1;32m      1\u001b[0m \u001b[0mw_param\u001b[0m \u001b[0;34m=\u001b[0m \u001b[0;34m[\u001b[0m\u001b[0;34m'w'\u001b[0m\u001b[0;34m,\u001b[0m\u001b[0;34m'wa'\u001b[0m\u001b[0;34m]\u001b[0m\u001b[0;34m\u001b[0m\u001b[0;34m\u001b[0m\u001b[0m\n\u001b[0;32m----> 2\u001b[0;31m \u001b[0mtest\u001b[0m \u001b[0;34m=\u001b[0m \u001b[0mCosmology\u001b[0m\u001b[0;34m(\u001b[0m\u001b[0;34m'wCDM'\u001b[0m\u001b[0;34m,\u001b[0m\u001b[0mw_param\u001b[0m\u001b[0;34m)\u001b[0m\u001b[0;34m\u001b[0m\u001b[0;34m\u001b[0m\u001b[0m\n\u001b[0m",
      "\u001b[0;32m~/Workspace/marcia/marcia/cosmology.py\u001b[0m in \u001b[0;36mCosmology\u001b[0;34m(model, parameters, prior_file)\u001b[0m\n\u001b[1;32m     13\u001b[0m             \"\"\"\n\u001b[1;32m     14\u001b[0m             )\n\u001b[0;32m---> 15\u001b[0;31m     \u001b[0;32mreturn\u001b[0m \u001b[0mglobals\u001b[0m\u001b[0;34m(\u001b[0m\u001b[0;34m)\u001b[0m\u001b[0;34m[\u001b[0m\u001b[0mmodel\u001b[0m\u001b[0;34m]\u001b[0m\u001b[0;34m(\u001b[0m\u001b[0mparameters\u001b[0m\u001b[0;34m,\u001b[0m\u001b[0mprior_file\u001b[0m\u001b[0;34m)\u001b[0m\u001b[0;34m\u001b[0m\u001b[0;34m\u001b[0m\u001b[0m\n\u001b[0m\u001b[1;32m     16\u001b[0m \u001b[0;34m\u001b[0m\u001b[0m\n\u001b[1;32m     17\u001b[0m \u001b[0;32mclass\u001b[0m \u001b[0mCosmology_base\u001b[0m\u001b[0;34m(\u001b[0m\u001b[0mobject\u001b[0m\u001b[0;34m)\u001b[0m\u001b[0;34m:\u001b[0m\u001b[0;34m\u001b[0m\u001b[0;34m\u001b[0m\u001b[0m\n",
      "\u001b[0;32m~/Workspace/marcia/marcia/cosmology.py\u001b[0m in \u001b[0;36m__init__\u001b[0;34m(self, params, prior_file)\u001b[0m\n\u001b[1;32m    156\u001b[0m     \u001b[0;32mdef\u001b[0m \u001b[0m__init__\u001b[0m\u001b[0;34m(\u001b[0m\u001b[0mself\u001b[0m\u001b[0;34m,\u001b[0m \u001b[0mparams\u001b[0m\u001b[0;34m,\u001b[0m\u001b[0mprior_file\u001b[0m\u001b[0;34m=\u001b[0m\u001b[0;32mNone\u001b[0m\u001b[0;34m)\u001b[0m\u001b[0;34m:\u001b[0m\u001b[0;34m\u001b[0m\u001b[0;34m\u001b[0m\u001b[0m\n\u001b[1;32m    157\u001b[0m         \u001b[0msuper\u001b[0m\u001b[0;34m(\u001b[0m\u001b[0;34m)\u001b[0m\u001b[0;34m.\u001b[0m\u001b[0m__init__\u001b[0m\u001b[0;34m(\u001b[0m\u001b[0mparams\u001b[0m\u001b[0;34m,\u001b[0m\u001b[0mprior_file\u001b[0m\u001b[0;34m)\u001b[0m\u001b[0;34m\u001b[0m\u001b[0;34m\u001b[0m\u001b[0m\n\u001b[0;32m--> 158\u001b[0;31m         \u001b[0mself\u001b[0m\u001b[0;34m.\u001b[0m\u001b[0m__check_mandatory_parameters__\u001b[0m\u001b[0;34m(\u001b[0m\u001b[0;34m)\u001b[0m\u001b[0;34m\u001b[0m\u001b[0;34m\u001b[0m\u001b[0m\n\u001b[0m\u001b[1;32m    159\u001b[0m \u001b[0;34m\u001b[0m\u001b[0m\n\u001b[1;32m    160\u001b[0m     \u001b[0;32mdef\u001b[0m \u001b[0m__check_mandatory_parameters__\u001b[0m\u001b[0;34m(\u001b[0m\u001b[0mself\u001b[0m\u001b[0;34m)\u001b[0m\u001b[0;34m:\u001b[0m\u001b[0;34m\u001b[0m\u001b[0;34m\u001b[0m\u001b[0m\n",
      "\u001b[0;32m~/Workspace/marcia/marcia/cosmology.py\u001b[0m in \u001b[0;36m__check_mandatory_parameters__\u001b[0;34m(self)\u001b[0m\n\u001b[1;32m    159\u001b[0m \u001b[0;34m\u001b[0m\u001b[0m\n\u001b[1;32m    160\u001b[0m     \u001b[0;32mdef\u001b[0m \u001b[0m__check_mandatory_parameters__\u001b[0m\u001b[0;34m(\u001b[0m\u001b[0mself\u001b[0m\u001b[0;34m)\u001b[0m\u001b[0;34m:\u001b[0m\u001b[0;34m\u001b[0m\u001b[0;34m\u001b[0m\u001b[0m\n\u001b[0;32m--> 161\u001b[0;31m         \u001b[0;32massert\u001b[0m \u001b[0;34m'w0'\u001b[0m \u001b[0;32min\u001b[0m \u001b[0mself\u001b[0m\u001b[0;34m.\u001b[0m\u001b[0mparam\u001b[0m\u001b[0;34m.\u001b[0m\u001b[0mparameters\u001b[0m\u001b[0;34m,\u001b[0m \u001b[0;34m'wCDM: w0 is not defined in the parameters'\u001b[0m\u001b[0;34m\u001b[0m\u001b[0;34m\u001b[0m\u001b[0m\n\u001b[0m\u001b[1;32m    162\u001b[0m \u001b[0;34m\u001b[0m\u001b[0m\n\u001b[1;32m    163\u001b[0m \u001b[0;34m\u001b[0m\u001b[0m\n",
      "\u001b[0;31mAssertionError\u001b[0m: wCDM: w0 is not defined in the parameters"
     ]
    }
   ],
   "source": [
    "w_param = ['w','wa']\n",
    "test = Cosmology('wCDM',w_param)"
   ]
  },
  {
   "cell_type": "code",
   "execution_count": null,
   "id": "b6439aac",
   "metadata": {},
   "outputs": [],
   "source": []
  }
 ],
 "metadata": {
  "kernelspec": {
   "display_name": "Python 3 (ipykernel)",
   "language": "python",
   "name": "python3"
  },
  "language_info": {
   "codemirror_mode": {
    "name": "ipython",
    "version": 3
   },
   "file_extension": ".py",
   "mimetype": "text/x-python",
   "name": "python",
   "nbconvert_exporter": "python",
   "pygments_lexer": "ipython3",
   "version": "3.8.8"
  }
 },
 "nbformat": 4,
 "nbformat_minor": 5
}
