{
 "cells": [
  {
   "cell_type": "code",
   "execution_count": 1,
   "metadata": {},
   "outputs": [
    {
     "ename": "NameError",
     "evalue": "name 'Kernels' is not defined",
     "output_type": "error",
     "traceback": [
      "\u001b[0;31m---------------------------------------------------------------------------\u001b[0m",
      "\u001b[0;31mNameError\u001b[0m                                 Traceback (most recent call last)",
      "Cell \u001b[0;32mIn[1], line 7\u001b[0m\n\u001b[1;32m      5\u001b[0m get_ipython()\u001b[39m.\u001b[39mrun_line_magic(\u001b[39m'\u001b[39m\u001b[39mload_ext\u001b[39m\u001b[39m'\u001b[39m, \u001b[39m'\u001b[39m\u001b[39mautoreload\u001b[39m\u001b[39m'\u001b[39m)\n\u001b[1;32m      6\u001b[0m get_ipython()\u001b[39m.\u001b[39mrun_line_magic(\u001b[39m'\u001b[39m\u001b[39mautoreload\u001b[39m\u001b[39m'\u001b[39m, \u001b[39m'\u001b[39m\u001b[39m2\u001b[39m\u001b[39m'\u001b[39m)\n\u001b[0;32m----> 7\u001b[0m \u001b[39mfrom\u001b[39;00m \u001b[39mmarcia\u001b[39;00m \u001b[39mimport\u001b[39;00m GPconfig\n\u001b[1;32m      8\u001b[0m \u001b[39mfrom\u001b[39;00m \u001b[39mmarcia\u001b[39;00m \u001b[39mimport\u001b[39;00m Kernels\n\u001b[1;32m      9\u001b[0m \u001b[39mfrom\u001b[39;00m \u001b[39mmarcia\u001b[39;00m \u001b[39mimport\u001b[39;00m Data\n",
      "File \u001b[0;32m~/Projects/marcia/Notebooks/../marcia/__init__.py:8\u001b[0m\n\u001b[1;32m      6\u001b[0m \u001b[39mfrom\u001b[39;00m \u001b[39m.\u001b[39;00m\u001b[39mlikelihood\u001b[39;00m \u001b[39mimport\u001b[39;00m Likelihood\n\u001b[1;32m      7\u001b[0m \u001b[39mfrom\u001b[39;00m \u001b[39m.\u001b[39;00m\u001b[39msampler\u001b[39;00m \u001b[39mimport\u001b[39;00m Sampler\n\u001b[0;32m----> 8\u001b[0m \u001b[39mfrom\u001b[39;00m \u001b[39m.\u001b[39;00m\u001b[39mkernels\u001b[39;00m \u001b[39mimport\u001b[39;00m \u001b[39m*\u001b[39m\n\u001b[1;32m      9\u001b[0m \u001b[39mfrom\u001b[39;00m \u001b[39m.\u001b[39;00m\u001b[39mlikelihood_GP\u001b[39;00m \u001b[39mimport\u001b[39;00m Likelihood_GP\n",
      "File \u001b[0;32m~/Projects/marcia/Notebooks/../marcia/kernels.py:23\u001b[0m\n\u001b[1;32m     20\u001b[0m \u001b[39mfrom\u001b[39;00m \u001b[39mmarcia\u001b[39;00m \u001b[39mimport\u001b[39;00m GPconfig\n\u001b[1;32m     21\u001b[0m \u001b[39mfrom\u001b[39;00m \u001b[39mmarcia\u001b[39;00m\u001b[39m.\u001b[39;00m\u001b[39mbackend\u001b[39;00m \u001b[39mimport\u001b[39;00m kernel \u001b[39mas\u001b[39;00m kernel\n\u001b[0;32m---> 23\u001b[0m \u001b[39mclass\u001b[39;00m \u001b[39mKernels\u001b[39;00m(\u001b[39mobject\u001b[39m):\n\u001b[1;32m     24\u001b[0m \u001b[39m    \u001b[39m\u001b[39m\"\"\"\u001b[39;00m\n\u001b[1;32m     25\u001b[0m \u001b[39m        General Gaussian process modelling that all the specific kernels must be inherited from.\u001b[39;00m\n\u001b[1;32m     26\u001b[0m \u001b[39m        Inputs would be the appropriate amplitude and scaling parameters needed for the particular model. \u001b[39;00m\n\u001b[1;32m     27\u001b[0m \u001b[39m        This initialisation retuns the final covarinace matrices as functions of kernal paramters. \u001b[39;00m\n\u001b[1;32m     28\u001b[0m \u001b[39m        \"\"\"\u001b[39;00m\n\u001b[1;32m     29\u001b[0m     \u001b[39mdef\u001b[39;00m \u001b[39m__init__\u001b[39m(\u001b[39mself\u001b[39m, data, filename \u001b[39m=\u001b[39m \u001b[39mNone\u001b[39;00m, verbose \u001b[39m=\u001b[39m \u001b[39mFalse\u001b[39;00m):\n",
      "File \u001b[0;32m~/Projects/marcia/Notebooks/../marcia/kernels.py:260\u001b[0m, in \u001b[0;36mKernels\u001b[0;34m()\u001b[0m\n\u001b[1;32m    256\u001b[0m         pickle\u001b[39m.\u001b[39mdump(KcMM_int, f)\n\u001b[1;32m    257\u001b[0m     \u001b[39mprint\u001b[39m(\u001b[39mf\u001b[39m\u001b[39m'\u001b[39m\u001b[39mCross covariance matrix saved in \u001b[39m\u001b[39m{\u001b[39;00m\u001b[39mself\u001b[39m\u001b[39m.\u001b[39mfile_path\u001b[39m}\u001b[39;00m\u001b[39m'\u001b[39m)\n\u001b[0;32m--> 260\u001b[0m \u001b[39mclass\u001b[39;00m \u001b[39mpredict\u001b[39;00m(Kernels):\n\u001b[1;32m    261\u001b[0m \u001b[39m    \u001b[39m\u001b[39m\"\"\"\u001b[39;00m\n\u001b[1;32m    262\u001b[0m \u001b[39m        This class is used to predict the mean and the variance of the GP model for a given set of optimized hyper-parameters\u001b[39;00m\n\u001b[1;32m    263\u001b[0m \u001b[39m        \"\"\"\u001b[39;00m\n\u001b[1;32m    264\u001b[0m     \u001b[39m# import attributes from the parent class Kernels with out the need to initialise the parent class\u001b[39;00m\n",
      "\u001b[0;31mNameError\u001b[0m: name 'Kernels' is not defined"
     ]
    }
   ],
   "source": [
    "import numpy as np\n",
    "\n",
    "import sys\n",
    "sys.path.append('../')\n",
    "%load_ext autoreload\n",
    "%autoreload 2\n",
    "from marcia import GPconfig\n",
    "from marcia import Kernels\n",
    "from marcia import Data\n",
    "\n",
    "from marcia.backend import kernel  as kernel  \n",
    "import matplotlib.pyplot as plt\n",
    "%matplotlib inline"
   ]
  },
  {
   "cell_type": "code",
   "execution_count": null,
   "metadata": {},
   "outputs": [],
   "source": [
    "# Set data \n",
    "\n",
    "# Set GP kernels \n",
    "\n",
    "# Initialise likelihood \n",
    "\n",
    "# MCMC sampling "
   ]
  }
 ],
 "metadata": {
  "kernelspec": {
   "display_name": "Python 3",
   "language": "python",
   "name": "python3"
  },
  "language_info": {
   "codemirror_mode": {
    "name": "ipython",
    "version": 3
   },
   "file_extension": ".py",
   "mimetype": "text/x-python",
   "name": "python",
   "nbconvert_exporter": "python",
   "pygments_lexer": "ipython3",
   "version": "3.8.11"
  },
  "orig_nbformat": 4
 },
 "nbformat": 4,
 "nbformat_minor": 2
}
