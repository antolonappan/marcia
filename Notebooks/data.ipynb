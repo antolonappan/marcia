{
   "cells": [
      {
         "cell_type": "code",
         "execution_count": 1,
         "metadata": {},
         "outputs": [],
         "source": [
            "import matplotlib.pyplot as plt\n",
            "import numpy as np\n",
            "import sys\n",
            "sys.path.append('../')\n"
         ]
      },
      {
         "cell_type": "code",
         "execution_count": 2,
         "metadata": {},
         "outputs": [],
         "source": [
            "from marcia import params\n",
            "%load_ext autoreload\n",
            "%autoreload 2\n",
            "from marcia.database import Data \n"
         ]
      },
      {
         "cell_type": "code",
         "execution_count": 10,
         "metadata": {},
         "outputs": [],
         "source": [
            "data_list = ['CC','BAO-alam']"
         ]
      },
      {
         "cell_type": "code",
         "execution_count": 11,
         "metadata": {},
         "outputs": [],
         "source": [
            "d = Data(data_list)\n"
         ]
      },
      {
         "cell_type": "code",
         "execution_count": 13,
         "metadata": {},
         "outputs": [
            {
               "data": {
                  "text/plain": [
                     "(array([0.38, 0.51, 0.61]),\n",
                     " array([10.27446204, 13.38097171, 15.4498579 ]),\n",
                     " array([[0.02289714, 0.01348674, 0.00650265],\n",
                     "        [0.01348674, 0.03215813, 0.01981553],\n",
                     "        [0.00650265, 0.01981553, 0.04657646]]))"
                  ]
               },
               "execution_count": 13,
               "metadata": {},
               "output_type": "execute_result"
            }
         ],
         "source": [
            "d.get_BAO_alam()"
         ]
      },
      {
         "cell_type": "code",
         "execution_count": 3,
         "metadata": {},
         "outputs": [
            {
               "name": "stdout",
               "output_type": "stream",
               "text": [
                  "Nuisance parameters are set to default values\n",
                  "Nuisance parameters are set to default values\n"
               ]
            },
            {
               "data": {
                  "image/png": "[encoded data removed]",
                  "text/plain": [
                     "<Figure size 432x288 with 2 Axes>"
                  ]
               },
               "metadata": {
                  "needs_background": "light"
               },
               "output_type": "display_data"
            }
         ],
         "source": [
            "data_list = ['CC', 'SNE']\n",
            "d = Data(data_list)\n",
            "d()\n",
            "x,y, cov = d()\n",
            "\n",
            "# Plot each dataset in a different panel for clarity making sure to use the same x-axis for all \n",
            "# panels with tight layout joining the panels together\n",
            "fig, ax = plt.subplots(2,1, sharex=True)\n",
            "fig.subplots_adjust(hspace=-1)\n",
            "\n",
            "ax[0].errorbar(d.x['x0'], d.y['y0'], yerr= np.sqrt(np.diagonal(d.covar['covar0'])), marker='s', ls='none', color='tab:blue', label=d.data[0])\n",
            "ax[1].errorbar(d.x['x1'], d.y['y1'] , yerr= np.sqrt(np.diagonal(d.covar['covar1'])), marker='s', ls='none', color='tab:red', label=d.data[1])\n",
            "\n",
            "ax[0].set_ylabel('$H(z)$')\n",
            "ax[1].set_ylabel('$H(z)/H0$')\n",
            "ax[1].set_xlabel('$z$')\n",
            "\n",
            "plt.tight_layout()\n",
            "plt.gca().legend()\n",
            "plt.show()\n",
            "\n"
         ]
      },
      {
         "cell_type": "code",
         "execution_count": 4,
         "metadata": {},
         "outputs": [
            {
               "data": {
                  "text/plain": [
                     "<matplotlib.colorbar.Colorbar at 0x7fe848694400>"
                  ]
               },
               "execution_count": 4,
               "metadata": {},
               "output_type": "execute_result"
            },
            {
               "data": {
                  "image/png": "[encoded data removed]",
                  "text/plain": [
                     "<Figure size 432x288 with 2 Axes>"
                  ]
               },
               "metadata": {
                  "needs_background": "light"
               },
               "output_type": "display_data"
            }
         ],
         "source": [
            "#To plt the covariance matrix \n",
            "plt.imshow(cov, cmap='RdBu')\n",
            "plt.colorbar()"
         ]
      },
      {
         "cell_type": "code",
         "execution_count": 5,
         "metadata": {},
         "outputs": [],
         "source": [
            "paramdict = {'file_fs8':1}\n",
            "d1 = Data(['CC','BAO-alam','GR'],**paramdict)"
         ]
      },
      {
         "cell_type": "code",
         "execution_count": 6,
         "metadata": {},
         "outputs": [
            {
               "name": "stdout",
               "output_type": "stream",
               "text": [
                  "Nuisance parameters are set to default values\n"
               ]
            },
            {
               "data": {
                  "text/plain": [
                     "(array([0.0708, 0.09  , 0.12  , 0.17  , 0.1791, 0.1993, 0.2   , 0.27  ,\n",
                     "        0.28  , 0.3519, 0.4   , 0.48  , 0.5929, 0.6797, 0.7812, 0.8754,\n",
                     "        0.88  , 0.9   , 1.037 , 1.3   , 1.363 , 1.43  , 1.53  , 1.75  ,\n",
                     "        1.965 , 0.3802, 0.4004, 0.4247, 0.4497, 0.4783, 0.47  , 0.38  ,\n",
                     "        0.51  , 0.61  , 0.38  , 0.51  , 0.61  , 0.02  , 0.067 , 0.17  ,\n",
                     "        0.35  , 0.77  , 0.25  , 0.37  , 0.22  , 0.41  , 0.6   , 0.78  ,\n",
                     "        0.57  , 0.3   , 0.4   , 0.5   , 0.6   ]),\n",
                     " array([6.90000000e+01, 6.90000000e+01, 6.86000000e+01, 8.30000000e+01,\n",
                     "        7.50000000e+01, 7.50000000e+01, 7.29000000e+01, 7.70000000e+01,\n",
                     "        8.88000000e+01, 8.30000000e+01, 9.50000000e+01, 9.70000000e+01,\n",
                     "        1.04000000e+02, 9.20000000e+01, 1.05000000e+02, 1.25000000e+02,\n",
                     "        9.00000000e+01, 1.17000000e+02, 1.54000000e+02, 1.68000000e+02,\n",
                     "        1.60000000e+02, 1.77000000e+02, 1.40000000e+02, 2.02000000e+02,\n",
                     "        1.86500000e+02, 8.30000000e+01, 7.70000000e+01, 8.71000000e+01,\n",
                     "        9.28000000e+01, 8.09000000e+01, 8.90000000e+01, 1.02744620e+01,\n",
                     "        1.33809717e+01, 1.54498579e+01, 4.01793761e-02, 4.45852336e-02,\n",
                     "        4.79412747e-02, 3.60000000e-01, 4.23000000e-01, 5.10000000e-01,\n",
                     "        4.40000000e-01, 4.90000000e-01, 3.51000000e-01, 4.60000000e-01,\n",
                     "        4.20000000e-01, 4.50000000e-01, 4.30000000e-01, 3.80000000e-01,\n",
                     "        4.27000000e-01, 4.07000000e-01, 4.19000000e-01, 4.27000000e-01,\n",
                     "        4.33000000e-01]),\n",
                     " array([[3.873024e+02, 0.000000e+00, 0.000000e+00, ..., 0.000000e+00,\n",
                     "         0.000000e+00, 0.000000e+00],\n",
                     "        [0.000000e+00, 1.440000e+02, 0.000000e+00, ..., 0.000000e+00,\n",
                     "         0.000000e+00, 0.000000e+00],\n",
                     "        [0.000000e+00, 0.000000e+00, 6.864400e+02, ..., 0.000000e+00,\n",
                     "         0.000000e+00, 0.000000e+00],\n",
                     "        ...,\n",
                     "        [0.000000e+00, 0.000000e+00, 0.000000e+00, ..., 1.681000e-03,\n",
                     "         0.000000e+00, 0.000000e+00],\n",
                     "        [0.000000e+00, 0.000000e+00, 0.000000e+00, ..., 0.000000e+00,\n",
                     "         1.849000e-03, 0.000000e+00],\n",
                     "        [0.000000e+00, 0.000000e+00, 0.000000e+00, ..., 0.000000e+00,\n",
                     "         0.000000e+00, 4.489000e-03]]))"
                  ]
               },
               "execution_count": 6,
               "metadata": {},
               "output_type": "execute_result"
            }
         ],
         "source": [
            "d1()"
         ]
      },
      {
         "cell_type": "code",
         "execution_count": 7,
         "metadata": {},
         "outputs": [
            {
               "name": "stdout",
               "output_type": "stream",
               "text": [
                  "Nuisance parameters are set to default values\n"
               ]
            }
         ],
         "source": [
            "x1,y1, cov1 = d1()"
         ]
      },
      {
         "cell_type": "code",
         "execution_count": 8,
         "metadata": {},
         "outputs": [
            {
               "data": {
                  "text/plain": [
                     "<matplotlib.colorbar.Colorbar at 0x7fe84862eeb0>"
                  ]
               },
               "execution_count": 8,
               "metadata": {},
               "output_type": "execute_result"
            },
            {
               "data": {
                  "image/png": "[encoded data removed]",
                  "text/plain": [
                     "<Figure size 432x288 with 2 Axes>"
                  ]
               },
               "metadata": {
                  "needs_background": "light"
               },
               "output_type": "display_data"
            }
         ],
         "source": [
            "#To plt the covariance matrix \n",
            "plt.imshow(cov1, cmap='RdBu')\n",
            "plt.colorbar()"
         ]
      },
      {
         "cell_type": "code",
         "execution_count": 9,
         "metadata": {},
         "outputs": [],
         "source": [
            "d2 = Data(['CC','BAO-alam','GR','Lya','SNE','QSA','GRB'])"
         ]
      },
      {
         "cell_type": "code",
         "execution_count": 10,
         "metadata": {},
         "outputs": [
            {
               "name": "stdout",
               "output_type": "stream",
               "text": [
                  "Nuisance parameters are set to default values\n"
               ]
            },
            {
               "data": {
                  "text/plain": [
                     "array([-5.21186392, -0.56702788, -3.95404728])"
                  ]
               },
               "execution_count": 10,
               "metadata": {},
               "output_type": "execute_result"
            }
         ],
         "source": [
            "x2,y2, cov2 = d2()\n",
            "y2[-3:]"
         ]
      },
      {
         "cell_type": "code",
         "execution_count": 11,
         "metadata": {},
         "outputs": [
            {
               "data": {
                  "text/plain": [
                     "array([-4.55834985, -0.89468244, -3.51962523])"
                  ]
               },
               "execution_count": 11,
               "metadata": {},
               "output_type": "execute_result"
            }
         ],
         "source": [
            "x2,y2, cov2 = d2({'b':2})\n",
            "y2[-3:]"
         ]
      },
      {
         "cell_type": "code",
         "execution_count": 12,
         "metadata": {},
         "outputs": [],
         "source": [
            "x1,y1, cov1 = d1({})"
         ]
      },
      {
         "cell_type": "code",
         "execution_count": 13,
         "metadata": {},
         "outputs": [],
         "source": [
            "d2 = Data(['CC','BAO-alam','GR','Lya','GRB','SNE','QSA'])"
         ]
      },
      {
         "cell_type": "code",
         "execution_count": 14,
         "metadata": {},
         "outputs": [],
         "source": [
            "x2,y2, cov2 = d2({'file_fs8':0,'Lambda':0.7,'b':1.0,'sigma_sys':0.7})"
         ]
      },
      {
         "cell_type": "code",
         "execution_count": 15,
         "metadata": {},
         "outputs": [],
         "source": [
            "x2,y2, cov2 = d2({'file_fs8':0,'b':1.0,'sigma_sys':0.7})"
         ]
      },
      {
         "cell_type": "code",
         "execution_count": 16,
         "metadata": {},
         "outputs": [
            {
               "data": {
                  "text/plain": [
                     "[array([1, 2, 3]), array([4, 5, 6])]"
                  ]
               },
               "execution_count": 16,
               "metadata": {},
               "output_type": "execute_result"
            }
         ],
         "source": [
            "x= {}\n",
            "x['x1'] = np.array([1,2,3])\n",
            "x['x2'] = np.array([4,5,6])\n",
            "list(x.values())"
         ]
      },
      {
         "cell_type": "code",
         "execution_count": null,
         "metadata": {},
         "outputs": [],
         "source": []
      }
   ],
   "metadata": {
      "kernelspec": {
         "display_name": "base",
         "language": "python",
         "name": "python3"
      },
      "language_info": {
         "codemirror_mode": {
            "name": "ipython",
            "version": 3
         },
         "file_extension": ".py",
         "mimetype": "text/x-python",
         "name": "python",
         "nbconvert_exporter": "python",
         "pygments_lexer": "ipython3",
         "version": "3.10.4"
      },
      "orig_nbformat": 4
   },
   "nbformat": 4,
   "nbformat_minor": 2
}
