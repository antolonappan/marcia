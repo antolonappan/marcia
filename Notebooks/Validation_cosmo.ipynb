{
 "cells": [
  {
   "cell_type": "code",
   "execution_count": 1,
   "id": "f08d8311-90eb-4886-b7c8-1964e14f6d28",
   "metadata": {},
   "outputs": [],
   "source": [
    "import sys\n",
    "sys.path.append('../')"
   ]
  },
  {
   "cell_type": "code",
   "execution_count": 2,
   "id": "e75a5d21-676b-4c16-92a7-b1d9e8e3a3f0",
   "metadata": {},
   "outputs": [],
   "source": [
    "import numpy as np \n",
    "import matplotlib.pyplot as plt"
   ]
  },
  {
   "cell_type": "code",
   "execution_count": 3,
   "id": "a53c96d1-5fb0-42ed-b5f0-4f0e1d88f856",
   "metadata": {},
   "outputs": [],
   "source": [
    "%load_ext autoreload\n",
    "%autoreload 2\n",
    "from marcia import Cosmology\n",
    "from marcia import Data\n",
    "from marcia import Likelihood\n",
    "from marcia import Sampler\n",
    "#from marcia import Kernels"
   ]
  },
  {
   "attachments": {},
   "cell_type": "markdown",
   "id": "e156a78d-bbca-4321-a5fe-c82cb37e6063",
   "metadata": {},
   "source": [
    "# Validate Cosmology"
   ]
  },
  {
   "cell_type": "code",
   "execution_count": 6,
   "id": "b53aa1cb-b55c-4ef2-b814-ce68fd25098f",
   "metadata": {},
   "outputs": [],
   "source": [
    "cParIni = [70.0, 0.3,] \n",
    "params = ['H0','Omega_m',]\n",
    "\n",
    "theory = Cosmology('wCDM',['H0','Omega_m','w0'])\n",
    "\n",
    "z_min = 0.001\n",
    "z_max = 10.0\n",
    "zlist = np.linspace(z_min, z_max, 10)"
   ]
  },
  {
   "cell_type": "code",
   "execution_count": 6,
   "id": "93d41a3c",
   "metadata": {},
   "outputs": [
    {
     "data": {
      "text/plain": [
       "array([4.27307206e+00, 3.56727608e+03, 5.48514650e+03, 6.65657529e+03,\n",
       "       7.45774195e+03, 8.04816315e+03, 8.50601569e+03, 8.87429913e+03,\n",
       "       9.17878548e+03, 9.43595655e+03])"
      ]
     },
     "execution_count": 6,
     "metadata": {},
     "output_type": "execute_result"
    }
   ],
   "source": [
    "theory.transverse_distance( [70, 0.3, -1.2], zlist)"
   ]
  },
  {
   "cell_type": "code",
   "execution_count": 19,
   "id": "73ee39e8",
   "metadata": {},
   "outputs": [],
   "source": [
    "redshifts = np.linspace(0.0, 2.0, 100)  # Array of redshift values from 0 to 2 (inclusive) with 100 points                                                                                                    \n",
    "Omega_m = 0.3\n",
    "Omega_de = 0.7\n",
    "Omega_k = 1.0 - Omega_m - Omega_de\n",
    "H0 = 70"
   ]
  },
  {
   "cell_type": "code",
   "execution_count": 20,
   "id": "640a8ab9",
   "metadata": {},
   "outputs": [],
   "source": [
    "lcdm = Cosmology('LCDM',['H0','Omega_m'])"
   ]
  },
  {
   "cell_type": "code",
   "execution_count": 21,
   "id": "63e5e668",
   "metadata": {},
   "outputs": [
    {
     "data": {
      "text/plain": [
       "array([0.        , 0.02020202, 0.04040404, 0.06060606, 0.08080808,\n",
       "       0.1010101 , 0.12121212, 0.14141414, 0.16161616, 0.18181818,\n",
       "       0.2020202 , 0.22222222, 0.24242424, 0.26262626, 0.28282828,\n",
       "       0.3030303 , 0.32323232, 0.34343434, 0.36363636, 0.38383838,\n",
       "       0.4040404 , 0.42424242, 0.44444444, 0.46464646, 0.48484848,\n",
       "       0.50505051, 0.52525253, 0.54545455, 0.56565657, 0.58585859,\n",
       "       0.60606061, 0.62626263, 0.64646465, 0.66666667, 0.68686869,\n",
       "       0.70707071, 0.72727273, 0.74747475, 0.76767677, 0.78787879,\n",
       "       0.80808081, 0.82828283, 0.84848485, 0.86868687, 0.88888889,\n",
       "       0.90909091, 0.92929293, 0.94949495, 0.96969697, 0.98989899,\n",
       "       1.01010101, 1.03030303, 1.05050505, 1.07070707, 1.09090909,\n",
       "       1.11111111, 1.13131313, 1.15151515, 1.17171717, 1.19191919,\n",
       "       1.21212121, 1.23232323, 1.25252525, 1.27272727, 1.29292929,\n",
       "       1.31313131, 1.33333333, 1.35353535, 1.37373737, 1.39393939,\n",
       "       1.41414141, 1.43434343, 1.45454545, 1.47474747, 1.49494949,\n",
       "       1.51515152, 1.53535354, 1.55555556, 1.57575758, 1.5959596 ,\n",
       "       1.61616162, 1.63636364, 1.65656566, 1.67676768, 1.6969697 ,\n",
       "       1.71717172, 1.73737374, 1.75757576, 1.77777778, 1.7979798 ,\n",
       "       1.81818182, 1.83838384, 1.85858586, 1.87878788, 1.8989899 ,\n",
       "       1.91919192, 1.93939394, 1.95959596, 1.97979798, 2.        ])"
      ]
     },
     "execution_count": 21,
     "metadata": {},
     "output_type": "execute_result"
    }
   ],
   "source": [
    "redshifts"
   ]
  },
  {
   "cell_type": "code",
   "execution_count": 24,
   "id": "adcad395",
   "metadata": {},
   "outputs": [
    {
     "name": "stderr",
     "output_type": "stream",
     "text": [
      "../marcia/cosmology.py:131: RuntimeWarning: divide by zero encountered in log10\n",
      "  mu = Mb + 25. + 5.*np.log10( (1+ z2)* self.transverse_distance(parameters, z1) )\n"
     ]
    },
    {
     "data": {
      "text/plain": [
       "array([       -inf, 15.66902268, 17.20668824, 18.11872851, 18.77409599,\n",
       "       19.28844228, 19.71330747, 20.07619064, 20.39352241, 20.67590791,\n",
       "       20.9305916 , 21.16275558, 21.37622541, 21.57391369, 21.75808824,\n",
       "       21.93055141, 22.09275921, 22.24590398, 22.3909775 , 22.52881344,\n",
       "       22.66011923, 22.78549888, 22.9054745 , 23.02050052, 23.13097483,\n",
       "       23.23724726, 23.33962771, 23.43839237, 23.53378849, 23.62603737,\n",
       "       23.71533892, 23.80187435, 23.88580826, 23.96729056, 24.04645808,\n",
       "       24.12343646, 24.19834125, 24.2712789 , 24.34234769, 24.41163874,\n",
       "       24.47923657, 24.54521965, 24.60966097, 24.67262855, 24.73418587,\n",
       "       24.79439284, 24.85330562, 24.91097673, 24.96745553, 25.02278848,\n",
       "       25.07701844, 25.13018693, 25.18233405, 25.23349675, 25.28371003,\n",
       "       25.33300705, 25.38141927, 25.42897666, 25.47570767, 25.52163932,\n",
       "       25.56679737, 25.61120634, 25.65488963, 25.69786962, 25.74016766,\n",
       "       25.78180413, 25.82279853, 25.86316952, 25.902935  , 25.94211212,\n",
       "       25.98071732, 26.01876635, 26.05627433, 26.09325578, 26.12972464,\n",
       "       26.16569431, 26.20117777, 26.23618744, 26.2707353 , 26.30483288,\n",
       "       26.33849127, 26.37172119, 26.40453295, 26.43693654, 26.4689416 ,\n",
       "       26.50055741, 26.53179296, 26.56265694, 26.59315772, 26.62330342,\n",
       "       26.65310189, 26.68256074, 26.71168733, 26.74048878, 26.76897201,\n",
       "       26.79714369, 26.82501033, 26.8525782 , 26.87985341, 26.90684189])"
      ]
     },
     "execution_count": 24,
     "metadata": {},
     "output_type": "execute_result"
    }
   ],
   "source": [
    "lcdm.distance_modulus([H0, Omega_m], redshifts, redshifts)"
   ]
  },
  {
   "cell_type": "code",
   "execution_count": 38,
   "id": "15f827ac-acc7-4fe6-a68f-99976dab0f17",
   "metadata": {},
   "outputs": [
    {
     "data": {
      "text/plain": [
       "<matplotlib.legend.Legend at 0x7f1cab4a5610>"
      ]
     },
     "execution_count": 38,
     "metadata": {},
     "output_type": "execute_result"
    },
    {
     "data": {
      "image/png": "[encoded data removed]",
      "text/plain": [
       "<Figure size 432x288 with 1 Axes>"
      ]
     },
     "metadata": {
      "needs_background": "light"
     },
     "output_type": "display_data"
    }
   ],
   "source": [
    "zlist = np.linspace(z_min, z_max, 10)\n",
    "\n",
    "plt.xlim(z_min,z_max)\n",
    "plt.yscale('log')\n",
    "# plt.xscale('log')\n",
    "plt.xlabel(r'$z$')\n",
    "plt.ylabel(r'$\\xi(z)$')\n",
    "\n",
    "plt.plot(zlist, theory.hubble_rate(cParIni,zlist), label = r'$\\xi(x) = H(z) [\\rm{Km/s\\, Mpc^{-1}}]$')\n",
    "plt.plot(zlist, theory.hubble_rate(cParIni, zlist)/theory.param(cParIni).H0, label=r'$\\xi(x) = E(z)$')\n",
    "\n",
    "plt.gca().legend()"
   ]
  },
  {
   "cell_type": "code",
   "execution_count": 40,
   "id": "f30113c6-31b1-4af8-ab4d-d97b9a9d511b",
   "metadata": {},
   "outputs": [
    {
     "data": {
      "text/plain": [
       "<matplotlib.legend.Legend at 0x7f1cab6d1610>"
      ]
     },
     "execution_count": 40,
     "metadata": {},
     "output_type": "execute_result"
    },
    {
     "data": {
      "image/png": "[encoded data removed]",
      "text/plain": [
       "<Figure size 432x288 with 1 Axes>"
      ]
     },
     "metadata": {
      "needs_background": "light"
     },
     "output_type": "display_data"
    }
   ],
   "source": [
    "plt.xlim(z_min,z_max)\n",
    "# plt.yscale('log')\n",
    "\n",
    "plt.xlabel(r'$z$')\n",
    "plt.ylabel(r'$\\xi(z)$')\n",
    "\n",
    "plt.plot(zlist, theory.transverse_distance(cParIni,zlist), label = r'$\\xi(x) = D_M(z)$')\n",
    "\n",
    "plt.gca().legend()"
   ]
  },
  {
   "cell_type": "code",
   "execution_count": 5,
   "id": "d82559f7",
   "metadata": {},
   "outputs": [
    {
     "data": {
      "text/plain": [
       "array([4.27307206e+00, 3.56727608e+03, 5.48514650e+03, 6.65657529e+03,\n",
       "       7.45774195e+03, 8.04816315e+03, 8.50601569e+03, 8.87429913e+03,\n",
       "       9.17878548e+03, 9.43595655e+03])"
      ]
     },
     "execution_count": 5,
     "metadata": {},
     "output_type": "execute_result"
    }
   ],
   "source": [
    "theory.transverse_distance(cParIni,zlist)"
   ]
  },
  {
   "cell_type": "code",
   "execution_count": 42,
   "id": "b6f1035b-e721-4843-8bd8-6d313bb71ec8",
   "metadata": {},
   "outputs": [
    {
     "name": "stdout",
     "output_type": "stream",
     "text": [
      "The sound horizon in MPc is : 146.61\n"
     ]
    }
   ],
   "source": [
    "# SOund horizon for the  current cosmology \n",
    "print('The sound horizon in MPc is : ' + str(round(theory.sound_horizon(cParIni), 2)))"
   ]
  },
  {
   "cell_type": "code",
   "execution_count": 7,
   "id": "5a747b1c",
   "metadata": {},
   "outputs": [
    {
     "name": "stdout",
     "output_type": "stream",
     "text": [
      "13.5 µs ± 432 ns per loop (mean ± std. dev. of 7 runs, 100,000 loops each)\n"
     ]
    }
   ],
   "source": [
    "%timeit theory.sound_horizon(cParIni)"
   ]
  },
  {
   "cell_type": "code",
   "execution_count": 67,
   "id": "14d103a7",
   "metadata": {},
   "outputs": [],
   "source": [
    "lcdm = Cosmology('LCDM',['H0','Omega_m'])\n",
    "wcdm = Cosmology('wCDM',['H0','Omega_m','w0'])"
   ]
  },
  {
   "cell_type": "code",
   "execution_count": 73,
   "id": "44681cac",
   "metadata": {},
   "outputs": [
    {
     "data": {
      "text/plain": [
       "array([   0.        , 3563.00252552, 5480.86846219, 6652.2955333 ,\n",
       "       7453.46122345, 8043.88164985, 8501.73372259, 8870.0167495 ,\n",
       "       9174.50291195, 9431.67380384])"
      ]
     },
     "execution_count": 73,
     "metadata": {},
     "output_type": "execute_result"
    }
   ],
   "source": [
    "lcdm._transverse_distance_([70, 0.3], zlist)"
   ]
  },
  {
   "cell_type": "code",
   "execution_count": 87,
   "id": "53990820",
   "metadata": {},
   "outputs": [
    {
     "data": {
      "text/plain": [
       "array([   0.        , 3756.12021805, 5743.63627523, 6933.36832763,\n",
       "       7740.79000998, 8333.81846036, 8792.9217005 , 9161.87050455,\n",
       "       9466.74024632, 9724.14483018])"
      ]
     },
     "execution_count": 87,
     "metadata": {},
     "output_type": "execute_result"
    }
   ],
   "source": [
    "wcdm._transverse_distance_( [70, 0.3, -1.3], zlist)"
   ]
  },
  {
   "cell_type": "code",
   "execution_count": 78,
   "id": "b4612f32",
   "metadata": {},
   "outputs": [
    {
     "data": {
      "text/plain": [
       "array([   0.        , 3756.12021805, 5743.63627523, 6933.36832763,\n",
       "       7740.79000998, 8333.81846036, 8792.9217005 , 9161.87050455,\n",
       "       9466.74024632, 9724.14483018])"
      ]
     },
     "execution_count": 78,
     "metadata": {},
     "output_type": "execute_result"
    }
   ],
   "source": [
    "wcdm._transverse_distance_( [70, 0.3, -1.3], zlist)"
   ]
  },
  {
   "cell_type": "code",
   "execution_count": 34,
   "id": "b0ea5a83",
   "metadata": {},
   "outputs": [],
   "source": [
    "klcdm = Cosmology('kLCDM',['H0','Omega_m','Omega_k'])"
   ]
  },
  {
   "cell_type": "code",
   "execution_count": 36,
   "id": "407eb913",
   "metadata": {},
   "outputs": [
    {
     "data": {
      "text/plain": [
       "array([4.28157123e+00, 3.49909018e+03, 5.42973331e+03, 6.66479343e+03,\n",
       "       7.54168971e+03, 8.20704907e+03, 8.73514182e+03, 9.16806810e+03,\n",
       "       9.53172140e+03, 9.84303874e+03])"
      ]
     },
     "execution_count": 36,
     "metadata": {},
     "output_type": "execute_result"
    }
   ],
   "source": [
    "klcdm.transverse_distance( [70, 0.3, 0.1], zlist)"
   ]
  },
  {
   "cell_type": "code",
   "execution_count": null,
   "id": "b4d2effa",
   "metadata": {},
   "outputs": [],
   "source": []
  }
 ],
 "metadata": {
  "kernelspec": {
   "display_name": "Python 3 (ipykernel)",
   "language": "python",
   "name": "python3"
  },
  "language_info": {
   "codemirror_mode": {
    "name": "ipython",
    "version": 3
   },
   "file_extension": ".py",
   "mimetype": "text/x-python",
   "name": "python",
   "nbconvert_exporter": "python",
   "pygments_lexer": "ipython3",
   "version": "3.8.8"
  }
 },
 "nbformat": 4,
 "nbformat_minor": 5
}
