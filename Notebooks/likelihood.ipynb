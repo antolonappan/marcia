{
 "cells": [
  {
   "cell_type": "code",
   "execution_count": 1,
   "metadata": {},
   "outputs": [],
   "source": [
    "import matplotlib.pyplot as plt\n",
    "import numpy as np\n",
    "import sys\n",
    "sys.path.append('../')\n",
    "import time"
   ]
  },
  {
   "cell_type": "code",
   "execution_count": 2,
   "metadata": {},
   "outputs": [],
   "source": [
    "%load_ext autoreload\n",
    "%autoreload 2\n",
    "from marcia import Sampler,Likelihood"
   ]
  },
  {
   "cell_type": "code",
   "execution_count": 3,
   "metadata": {},
   "outputs": [],
   "source": [
    "Samp = Sampler('LCDM',['H0','Omega_m'],['CC','BAO-alam'],[70,0.3],sampler_file='anto1.h5',resume=True,max_n=2000)"
   ]
  },
  {
   "cell_type": "code",
   "execution_count": 4,
   "metadata": {},
   "outputs": [
    {
     "name": "stderr",
     "output_type": "stream",
     "text": [
      "  0%|          | 0/2000 [00:00<?, ?it/s]"
     ]
    },
    {
     "name": "stdout",
     "output_type": "stream",
     "text": [
      "Best-fit values: [68.53608185  0.31205997]\n",
      "Max-Likelihood value (including prior likelihood):-7.466129167267174\n"
     ]
    },
    {
     "name": "stderr",
     "output_type": "stream",
     "text": [
      "100%|██████████| 2000/2000 [03:01<00:00, 11.01it/s]\n"
     ]
    },
    {
     "data": {
      "text/plain": [
       "array([[[68.53603521,  0.31205728],\n",
       "        [68.53611552,  0.31189956],\n",
       "        [68.53609931,  0.31190865],\n",
       "        ...,\n",
       "        [68.53615996,  0.31211906],\n",
       "        [68.53600722,  0.3121686 ],\n",
       "        [68.53618135,  0.31184891]],\n",
       "\n",
       "       [[68.53601791,  0.31204509],\n",
       "        [68.53620777,  0.31170153],\n",
       "        [68.53611956,  0.31195989],\n",
       "        ...,\n",
       "        [68.53615996,  0.31211906],\n",
       "        [68.5360076 ,  0.31216778],\n",
       "        [68.53619651,  0.3118314 ]],\n",
       "\n",
       "       [[68.53600279,  0.31204686],\n",
       "        [68.53608987,  0.31189124],\n",
       "        [68.5361297 ,  0.31197527],\n",
       "        ...,\n",
       "        [68.53615613,  0.31215708],\n",
       "        [68.53588031,  0.31218563],\n",
       "        [68.53607687,  0.31155285]],\n",
       "\n",
       "       ...,\n",
       "\n",
       "       [[69.95867129,  0.31592583],\n",
       "        [69.85052208,  0.31567967],\n",
       "        [68.77058508,  0.30502629],\n",
       "        ...,\n",
       "        [69.22250961,  0.32556781],\n",
       "        [69.49596216,  0.32131463],\n",
       "        [68.31534892,  0.29535136]],\n",
       "\n",
       "       [[69.95867129,  0.31592583],\n",
       "        [70.44888896,  0.33092409],\n",
       "        [68.30708439,  0.29133382],\n",
       "        ...,\n",
       "        [69.41987886,  0.32821109],\n",
       "        [69.29009331,  0.31900112],\n",
       "        [68.31534892,  0.29535136]],\n",
       "\n",
       "       [[69.95867129,  0.31592583],\n",
       "        [70.27841502,  0.33005324],\n",
       "        [68.05017674,  0.28420042],\n",
       "        ...,\n",
       "        [69.45861486,  0.32756062],\n",
       "        [68.96262029,  0.30980994],\n",
       "        [68.28932233,  0.29705531]]])"
      ]
     },
     "execution_count": 4,
     "metadata": {},
     "output_type": "execute_result"
    }
   ],
   "source": [
    "Samp.sampler().get_chain()"
   ]
  },
  {
   "cell_type": "code",
   "execution_count": 6,
   "metadata": {},
   "outputs": [
    {
     "name": "stderr",
     "output_type": "stream",
     "text": [
      "  0%|          | 0/2000 [00:00<?, ?it/s]"
     ]
    },
    {
     "name": "stdout",
     "output_type": "stream",
     "text": [
      "Best-fit values: [68.53608185  0.31205997]\n",
      "Max-Likelihood value (including prior likelihood):-7.466129167267174\n"
     ]
    },
    {
     "name": "stderr",
     "output_type": "stream",
     "text": [
      "  0%|          | 8/2000 [00:00<02:31, 13.12it/s]"
     ]
    },
    {
     "name": "stderr",
     "output_type": "stream",
     "text": [
      " 15%|█▌        | 300/2000 [00:24<02:19, 12.16it/s]"
     ]
    },
    {
     "name": "stdout",
     "output_type": "stream",
     "text": [
      "Converged at iteration 3700\n"
     ]
    },
    {
     "name": "stderr",
     "output_type": "stream",
     "text": [
      "\n"
     ]
    },
    {
     "data": {
      "text/plain": [
       "(60, 14)"
      ]
     },
     "execution_count": 6,
     "metadata": {},
     "output_type": "execute_result"
    }
   ],
   "source": [
    "Samp.get_burnin()"
   ]
  },
  {
   "cell_type": "code",
   "execution_count": 7,
   "metadata": {},
   "outputs": [
    {
     "data": {
      "text/plain": [
       "(26000, 4)"
      ]
     },
     "execution_count": 7,
     "metadata": {},
     "output_type": "execute_result"
    }
   ],
   "source": [
    "Samp.get_chain(True).shape"
   ]
  },
  {
   "cell_type": "code",
   "execution_count": 8,
   "metadata": {},
   "outputs": [
    {
     "name": "stdout",
     "output_type": "stream",
     "text": [
      "Removed no burn in\n"
     ]
    }
   ],
   "source": [
    "Samp.corner_plot(True)"
   ]
  },
  {
   "cell_type": "code",
   "execution_count": null,
   "metadata": {},
   "outputs": [],
   "source": []
  }
 ],
 "metadata": {
  "kernelspec": {
   "display_name": "base",
   "language": "python",
   "name": "python3"
  },
  "language_info": {
   "codemirror_mode": {
    "name": "ipython",
    "version": 3
   },
   "file_extension": ".py",
   "mimetype": "text/x-python",
   "name": "python",
   "nbconvert_exporter": "python",
   "pygments_lexer": "ipython3",
   "version": "3.8.8"
  },
  "orig_nbformat": 4
 },
 "nbformat": 4,
 "nbformat_minor": 2
}
